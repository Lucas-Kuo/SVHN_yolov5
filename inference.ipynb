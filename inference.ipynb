{
  "nbformat": 4,
  "nbformat_minor": 0,
  "metadata": {
    "colab": {
      "name": "inference.ipynb",
      "provenance": [],
      "authorship_tag": "ABX9TyMan+0c3XNKOB2KI56Ws34F",
      "include_colab_link": true
    },
    "kernelspec": {
      "name": "python3",
      "display_name": "Python 3"
    },
    "language_info": {
      "name": "python"
    }
  },
  "cells": [
    {
      "cell_type": "markdown",
      "metadata": {
        "id": "view-in-github",
        "colab_type": "text"
      },
      "source": [
        "<a href=\"https://colab.research.google.com/github/Lucas-Kuo/SVHN_yolov5/blob/master/inference.ipynb\" target=\"_parent\"><img src=\"https://colab.research.google.com/assets/colab-badge.svg\" alt=\"Open In Colab\"/></a>"
      ]
    },
    {
      "cell_type": "markdown",
      "metadata": {
        "id": "F8tocuWZ04H1"
      },
      "source": [
        "Cloning the repo"
      ]
    },
    {
      "cell_type": "code",
      "metadata": {
        "id": "OPu_7Wts0wwh"
      },
      "source": [
        "!git clone https://github.com/Lucas-Kuo/SVHN_yolov5.git\n",
        "%cd SVHN_yolov5"
      ],
      "execution_count": null,
      "outputs": []
    },
    {
      "cell_type": "markdown",
      "metadata": {
        "id": "uy0GaJX609YN"
      },
      "source": [
        "Import and download necessary packets"
      ]
    },
    {
      "cell_type": "code",
      "metadata": {
        "id": "68u2qZJ51Flc"
      },
      "source": [
        "import gdown\n",
        "import os\n",
        "import shutil\n",
        "import json\n",
        "!pip install PyYAML==6.0"
      ],
      "execution_count": null,
      "outputs": []
    },
    {
      "cell_type": "markdown",
      "metadata": {
        "id": "JRSpEAak14aG"
      },
      "source": [
        "Download testing dataset from Google Drive and unzip it"
      ]
    },
    {
      "cell_type": "code",
      "metadata": {
        "id": "IbBpgicn1-sB"
      },
      "source": [
        "url = \"https://drive.google.com/u/0/uc?id=1Fm-avdeNgzhPxhvia0iw9yZzcoOggy7I&export=download\"\n",
        "output = \"test.zip\"\n",
        "gdown.download(url, output, quiet=False)"
      ],
      "execution_count": null,
      "outputs": []
    },
    {
      "cell_type": "code",
      "metadata": {
        "id": "M4vySzw22C_B"
      },
      "source": [
        "!mkdir test\n",
        "!unzip test.zip -d test"
      ],
      "execution_count": null,
      "outputs": []
    },
    {
      "cell_type": "markdown",
      "metadata": {
        "id": "XfTo0-0S2aBN"
      },
      "source": [
        "Download the trained model from Google Drive"
      ]
    },
    {
      "cell_type": "code",
      "metadata": {
        "id": "Vdxoaaj_2Zi0"
      },
      "source": [
        "url = \"https://drive.google.com/u/0/uc?id=1J386qflqdWkA_bqJ5dkRardHUpv14APT&export=download\" # s_16\n",
        "output = \"best.pt\"\n",
        "gdown.download(url, output, quiet=False)"
      ],
      "execution_count": null,
      "outputs": []
    },
    {
      "cell_type": "markdown",
      "metadata": {
        "id": "6Rtzbt5f2q2r"
      },
      "source": [
        "Clear the directory we're going to store our result\n",
        "\n",
        "(It's highly recommended that you execute this cell everytime before running inference.py)"
      ]
    },
    {
      "cell_type": "code",
      "metadata": {
        "id": "RHf33H9y3Lwb"
      },
      "source": [
        "if os.path.exists(\"runs/detect\"):\n",
        "  shutil.rmtree(\"runs/detect\")"
      ],
      "execution_count": null,
      "outputs": []
    },
    {
      "cell_type": "markdown",
      "metadata": {
        "id": "0zXSsQEf3QVH"
      },
      "source": [
        "Running inference\n",
        "\n",
        "(This may take several minutes since I'm aiming for high mAP and set the confidence threshold quite low)\n",
        "\n",
        "P.S. Inference speed time will also be shown in the console of this cell"
      ]
    },
    {
      "cell_type": "code",
      "metadata": {
        "id": "VhpdbQNX3SWw"
      },
      "source": [
        "# Inference \n",
        "!python detect.py --weights best.pt --source test/test/ --device 0 --save-txt --save-conf --iou-thres 0.6  --conf-thres 0.0001 --nosave"
      ],
      "execution_count": null,
      "outputs": []
    },
    {
      "cell_type": "markdown",
      "metadata": {
        "id": "LRjHmYet3pqA"
      },
      "source": [
        "After the cell above has finished executing, we're going to collect the results and produce answer.json"
      ]
    },
    {
      "cell_type": "code",
      "metadata": {
        "id": "FKLUngsm32bl"
      },
      "source": [
        "answer_dirs = os.listdir(\"runs/detect/exp/labels\")\n",
        "ANSWER_BASE_DIR = \"runs/detect/exp/labels/\"\n",
        "result_to_json = []\n",
        "\n",
        "answer_dirs.sort(key = lambda x: int(x[:-4]))\n",
        "\n",
        "for answer_dir in answer_dirs:\n",
        "  # parse image id from \"xxxxx.txt\"\n",
        "  img_id = answer_dir[:-4]\n",
        "  \n",
        "  with open(ANSWER_BASE_DIR+answer_dir, \"r\") as f:\n",
        "    lines = f.readlines()\n",
        "    for line in lines:\n",
        "      det_box_info = {}\n",
        "      # line contains: {class} {x}{y}{w}{h} {confidence}\n",
        "      args = line.split()\n",
        "\n",
        "      det_box_info[\"image_id\"] = int(img_id)\n",
        "      det_box_info[\"category_id\"] = int(args[0])\n",
        "      det_box_info[\"bbox\"] = [float(args[1]), float(args[2]), float(args[3]), float(args[4])]\n",
        "      det_box_info[\"score\"] = float(args[5])\n",
        "\n",
        "      result_to_json.append(det_box_info)\n",
        "  \n",
        "json_object = json.dumps(result_to_json, indent=4)\n",
        "\n",
        "with open(\"answer.json\", \"w\") as outfile:\n",
        "  outfile.write(json_object)\n"
      ],
      "execution_count": null,
      "outputs": []
    },
    {
      "cell_type": "markdown",
      "metadata": {
        "id": "8pmBo2ph37ZF"
      },
      "source": [
        "Now, answer.json is created in /content/SVHN_yolov5"
      ]
    }
  ]
}